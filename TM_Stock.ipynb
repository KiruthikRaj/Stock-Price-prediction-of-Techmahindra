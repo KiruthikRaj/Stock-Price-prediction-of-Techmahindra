{
 "cells": [
  {
   "cell_type": "markdown",
   "id": "32d0e764",
   "metadata": {},
   "source": [
    "Import Required Library "
   ]
  },
  {
   "cell_type": "code",
   "execution_count": 3,
   "id": "e963157f",
   "metadata": {},
   "outputs": [],
   "source": [
    "import pandas as pd\n",
    "import numpy\n",
    "import os\n",
    "import numpy as np\n",
    "import matplotlib.pyplot as plt\n",
    "%matplotlib inline\n",
    "from sklearn.preprocessing import MinMaxScaler\n",
    "\n",
    "from tensorflow.keras.models import Sequential\n",
    "from tensorflow.keras.layers import Dense\n",
    "from tensorflow.keras.layers import LSTM\n",
    "import tensorflow as tf\n",
    "\n",
    "import math\n",
    "from sklearn.metrics import mean_squared_error\n",
    "from numpy import array\n",
    "import matplotlib.pyplot as plt"
   ]
  },
  {
   "cell_type": "markdown",
   "id": "f436fc1b",
   "metadata": {},
   "source": [
    "Import Dataset"
   ]
  },
  {
   "cell_type": "code",
   "execution_count": 4,
   "id": "cd7da447",
   "metadata": {},
   "outputs": [],
   "source": [
    "data=pd.read_csv(r\"C:\\Users\\kirut\\Downloads\\historical_data.csv\",na_values=\"None\")"
   ]
  },
  {
   "cell_type": "code",
   "execution_count": 5,
   "id": "fd2abf75",
   "metadata": {
    "scrolled": true
   },
   "outputs": [
    {
     "data": {
      "text/html": [
       "<div>\n",
       "<style scoped>\n",
       "    .dataframe tbody tr th:only-of-type {\n",
       "        vertical-align: middle;\n",
       "    }\n",
       "\n",
       "    .dataframe tbody tr th {\n",
       "        vertical-align: top;\n",
       "    }\n",
       "\n",
       "    .dataframe thead th {\n",
       "        text-align: right;\n",
       "    }\n",
       "</style>\n",
       "<table border=\"1\" class=\"dataframe\">\n",
       "  <thead>\n",
       "    <tr style=\"text-align: right;\">\n",
       "      <th></th>\n",
       "      <th>Date</th>\n",
       "      <th>Open</th>\n",
       "      <th>High</th>\n",
       "      <th>Low</th>\n",
       "      <th>Close</th>\n",
       "      <th>Volume</th>\n",
       "      <th>Daily Change %</th>\n",
       "    </tr>\n",
       "  </thead>\n",
       "  <tbody>\n",
       "    <tr>\n",
       "      <th>0</th>\n",
       "      <td>08-Jul-2022</td>\n",
       "      <td>1031.00</td>\n",
       "      <td>1034.7</td>\n",
       "      <td>1014.55</td>\n",
       "      <td>1026.50</td>\n",
       "      <td>2841036</td>\n",
       "      <td>-0.44</td>\n",
       "    </tr>\n",
       "    <tr>\n",
       "      <th>1</th>\n",
       "      <td>07-Jul-2022</td>\n",
       "      <td>1020.95</td>\n",
       "      <td>1026.9</td>\n",
       "      <td>1016.00</td>\n",
       "      <td>1020.75</td>\n",
       "      <td>1901699</td>\n",
       "      <td>-0.02</td>\n",
       "    </tr>\n",
       "    <tr>\n",
       "      <th>2</th>\n",
       "      <td>06-Jul-2022</td>\n",
       "      <td>1008.00</td>\n",
       "      <td>1014.9</td>\n",
       "      <td>1001.60</td>\n",
       "      <td>1009.90</td>\n",
       "      <td>2188175</td>\n",
       "      <td>0.19</td>\n",
       "    </tr>\n",
       "    <tr>\n",
       "      <th>3</th>\n",
       "      <td>05-Jul-2022</td>\n",
       "      <td>1005.00</td>\n",
       "      <td>1021.9</td>\n",
       "      <td>999.00</td>\n",
       "      <td>1003.20</td>\n",
       "      <td>3045188</td>\n",
       "      <td>-0.18</td>\n",
       "    </tr>\n",
       "    <tr>\n",
       "      <th>4</th>\n",
       "      <td>04-Jul-2022</td>\n",
       "      <td>1010.70</td>\n",
       "      <td>1013.8</td>\n",
       "      <td>995.00</td>\n",
       "      <td>999.95</td>\n",
       "      <td>1814322</td>\n",
       "      <td>-1.06</td>\n",
       "    </tr>\n",
       "    <tr>\n",
       "      <th>...</th>\n",
       "      <td>...</td>\n",
       "      <td>...</td>\n",
       "      <td>...</td>\n",
       "      <td>...</td>\n",
       "      <td>...</td>\n",
       "      <td>...</td>\n",
       "      <td>...</td>\n",
       "    </tr>\n",
       "    <tr>\n",
       "      <th>1632</th>\n",
       "      <td>14-Dec-2015</td>\n",
       "      <td>536.00</td>\n",
       "      <td>546.5</td>\n",
       "      <td>535.15</td>\n",
       "      <td>544.65</td>\n",
       "      <td>788606</td>\n",
       "      <td>1.61</td>\n",
       "    </tr>\n",
       "    <tr>\n",
       "      <th>1633</th>\n",
       "      <td>14-Dec-2015</td>\n",
       "      <td>539.95</td>\n",
       "      <td>544.6</td>\n",
       "      <td>534.00</td>\n",
       "      <td>536.35</td>\n",
       "      <td>938866</td>\n",
       "      <td>-0.67</td>\n",
       "    </tr>\n",
       "    <tr>\n",
       "      <th>1634</th>\n",
       "      <td>14-Dec-2015</td>\n",
       "      <td>539.60</td>\n",
       "      <td>544.5</td>\n",
       "      <td>536.00</td>\n",
       "      <td>542.60</td>\n",
       "      <td>852540</td>\n",
       "      <td>0.56</td>\n",
       "    </tr>\n",
       "    <tr>\n",
       "      <th>1635</th>\n",
       "      <td>14-Dec-2015</td>\n",
       "      <td>543.00</td>\n",
       "      <td>545.6</td>\n",
       "      <td>537.15</td>\n",
       "      <td>540.00</td>\n",
       "      <td>715680</td>\n",
       "      <td>-0.55</td>\n",
       "    </tr>\n",
       "    <tr>\n",
       "      <th>1636</th>\n",
       "      <td>14-Dec-2015</td>\n",
       "      <td>533.00</td>\n",
       "      <td>543.1</td>\n",
       "      <td>533.00</td>\n",
       "      <td>542.15</td>\n",
       "      <td>1079295</td>\n",
       "      <td>1.72</td>\n",
       "    </tr>\n",
       "  </tbody>\n",
       "</table>\n",
       "<p>1637 rows × 7 columns</p>\n",
       "</div>"
      ],
      "text/plain": [
       "             Date     Open    High      Low    Close   Volume  Daily Change %\n",
       "0     08-Jul-2022  1031.00  1034.7  1014.55  1026.50  2841036           -0.44\n",
       "1     07-Jul-2022  1020.95  1026.9  1016.00  1020.75  1901699           -0.02\n",
       "2     06-Jul-2022  1008.00  1014.9  1001.60  1009.90  2188175            0.19\n",
       "3     05-Jul-2022  1005.00  1021.9   999.00  1003.20  3045188           -0.18\n",
       "4     04-Jul-2022  1010.70  1013.8   995.00   999.95  1814322           -1.06\n",
       "...           ...      ...     ...      ...      ...      ...             ...\n",
       "1632  14-Dec-2015   536.00   546.5   535.15   544.65   788606            1.61\n",
       "1633  14-Dec-2015   539.95   544.6   534.00   536.35   938866           -0.67\n",
       "1634  14-Dec-2015   539.60   544.5   536.00   542.60   852540            0.56\n",
       "1635  14-Dec-2015   543.00   545.6   537.15   540.00   715680           -0.55\n",
       "1636  14-Dec-2015   533.00   543.1   533.00   542.15  1079295            1.72\n",
       "\n",
       "[1637 rows x 7 columns]"
      ]
     },
     "execution_count": 5,
     "metadata": {},
     "output_type": "execute_result"
    }
   ],
   "source": [
    "data"
   ]
  },
  {
   "cell_type": "markdown",
   "id": "0bf19fa1",
   "metadata": {},
   "source": [
    "Reverse the dataset and extract the required columns"
   ]
  },
  {
   "cell_type": "code",
   "execution_count": 6,
   "id": "2159c355",
   "metadata": {
    "scrolled": true
   },
   "outputs": [
    {
     "data": {
      "text/html": [
       "<div>\n",
       "<style scoped>\n",
       "    .dataframe tbody tr th:only-of-type {\n",
       "        vertical-align: middle;\n",
       "    }\n",
       "\n",
       "    .dataframe tbody tr th {\n",
       "        vertical-align: top;\n",
       "    }\n",
       "\n",
       "    .dataframe thead th {\n",
       "        text-align: right;\n",
       "    }\n",
       "</style>\n",
       "<table border=\"1\" class=\"dataframe\">\n",
       "  <thead>\n",
       "    <tr style=\"text-align: right;\">\n",
       "      <th></th>\n",
       "      <th>Date</th>\n",
       "      <th>Open</th>\n",
       "      <th>High</th>\n",
       "      <th>Low</th>\n",
       "      <th>Close</th>\n",
       "      <th>Volume</th>\n",
       "      <th>Daily Change %</th>\n",
       "    </tr>\n",
       "  </thead>\n",
       "  <tbody>\n",
       "    <tr>\n",
       "      <th>0</th>\n",
       "      <td>14-Dec-2015</td>\n",
       "      <td>533.00</td>\n",
       "      <td>543.1</td>\n",
       "      <td>533.00</td>\n",
       "      <td>542.15</td>\n",
       "      <td>1079295</td>\n",
       "      <td>1.72</td>\n",
       "    </tr>\n",
       "    <tr>\n",
       "      <th>1</th>\n",
       "      <td>14-Dec-2015</td>\n",
       "      <td>543.00</td>\n",
       "      <td>545.6</td>\n",
       "      <td>537.15</td>\n",
       "      <td>540.00</td>\n",
       "      <td>715680</td>\n",
       "      <td>-0.55</td>\n",
       "    </tr>\n",
       "    <tr>\n",
       "      <th>2</th>\n",
       "      <td>14-Dec-2015</td>\n",
       "      <td>539.60</td>\n",
       "      <td>544.5</td>\n",
       "      <td>536.00</td>\n",
       "      <td>542.60</td>\n",
       "      <td>852540</td>\n",
       "      <td>0.56</td>\n",
       "    </tr>\n",
       "    <tr>\n",
       "      <th>3</th>\n",
       "      <td>14-Dec-2015</td>\n",
       "      <td>539.95</td>\n",
       "      <td>544.6</td>\n",
       "      <td>534.00</td>\n",
       "      <td>536.35</td>\n",
       "      <td>938866</td>\n",
       "      <td>-0.67</td>\n",
       "    </tr>\n",
       "    <tr>\n",
       "      <th>4</th>\n",
       "      <td>14-Dec-2015</td>\n",
       "      <td>536.00</td>\n",
       "      <td>546.5</td>\n",
       "      <td>535.15</td>\n",
       "      <td>544.65</td>\n",
       "      <td>788606</td>\n",
       "      <td>1.61</td>\n",
       "    </tr>\n",
       "    <tr>\n",
       "      <th>...</th>\n",
       "      <td>...</td>\n",
       "      <td>...</td>\n",
       "      <td>...</td>\n",
       "      <td>...</td>\n",
       "      <td>...</td>\n",
       "      <td>...</td>\n",
       "      <td>...</td>\n",
       "    </tr>\n",
       "    <tr>\n",
       "      <th>1632</th>\n",
       "      <td>04-Jul-2022</td>\n",
       "      <td>1010.70</td>\n",
       "      <td>1013.8</td>\n",
       "      <td>995.00</td>\n",
       "      <td>999.95</td>\n",
       "      <td>1814322</td>\n",
       "      <td>-1.06</td>\n",
       "    </tr>\n",
       "    <tr>\n",
       "      <th>1633</th>\n",
       "      <td>05-Jul-2022</td>\n",
       "      <td>1005.00</td>\n",
       "      <td>1021.9</td>\n",
       "      <td>999.00</td>\n",
       "      <td>1003.20</td>\n",
       "      <td>3045188</td>\n",
       "      <td>-0.18</td>\n",
       "    </tr>\n",
       "    <tr>\n",
       "      <th>1634</th>\n",
       "      <td>06-Jul-2022</td>\n",
       "      <td>1008.00</td>\n",
       "      <td>1014.9</td>\n",
       "      <td>1001.60</td>\n",
       "      <td>1009.90</td>\n",
       "      <td>2188175</td>\n",
       "      <td>0.19</td>\n",
       "    </tr>\n",
       "    <tr>\n",
       "      <th>1635</th>\n",
       "      <td>07-Jul-2022</td>\n",
       "      <td>1020.95</td>\n",
       "      <td>1026.9</td>\n",
       "      <td>1016.00</td>\n",
       "      <td>1020.75</td>\n",
       "      <td>1901699</td>\n",
       "      <td>-0.02</td>\n",
       "    </tr>\n",
       "    <tr>\n",
       "      <th>1636</th>\n",
       "      <td>08-Jul-2022</td>\n",
       "      <td>1031.00</td>\n",
       "      <td>1034.7</td>\n",
       "      <td>1014.55</td>\n",
       "      <td>1026.50</td>\n",
       "      <td>2841036</td>\n",
       "      <td>-0.44</td>\n",
       "    </tr>\n",
       "  </tbody>\n",
       "</table>\n",
       "<p>1637 rows × 7 columns</p>\n",
       "</div>"
      ],
      "text/plain": [
       "             Date     Open    High      Low    Close   Volume  Daily Change %\n",
       "0     14-Dec-2015   533.00   543.1   533.00   542.15  1079295            1.72\n",
       "1     14-Dec-2015   543.00   545.6   537.15   540.00   715680           -0.55\n",
       "2     14-Dec-2015   539.60   544.5   536.00   542.60   852540            0.56\n",
       "3     14-Dec-2015   539.95   544.6   534.00   536.35   938866           -0.67\n",
       "4     14-Dec-2015   536.00   546.5   535.15   544.65   788606            1.61\n",
       "...           ...      ...     ...      ...      ...      ...             ...\n",
       "1632  04-Jul-2022  1010.70  1013.8   995.00   999.95  1814322           -1.06\n",
       "1633  05-Jul-2022  1005.00  1021.9   999.00  1003.20  3045188           -0.18\n",
       "1634  06-Jul-2022  1008.00  1014.9  1001.60  1009.90  2188175            0.19\n",
       "1635  07-Jul-2022  1020.95  1026.9  1016.00  1020.75  1901699           -0.02\n",
       "1636  08-Jul-2022  1031.00  1034.7  1014.55  1026.50  2841036           -0.44\n",
       "\n",
       "[1637 rows x 7 columns]"
      ]
     },
     "execution_count": 6,
     "metadata": {},
     "output_type": "execute_result"
    }
   ],
   "source": [
    "data2=data[::-1]\n",
    "data2=data2.reset_index()\n",
    "data2=data2.iloc[0:,1:]\n",
    "data2"
   ]
  },
  {
   "cell_type": "markdown",
   "id": "5e6bb4cf",
   "metadata": {},
   "source": [
    "Select the Close column"
   ]
  },
  {
   "cell_type": "code",
   "execution_count": 7,
   "id": "10c29483",
   "metadata": {},
   "outputs": [
    {
     "data": {
      "text/plain": [
       "0        542.15\n",
       "1        540.00\n",
       "2        542.60\n",
       "3        536.35\n",
       "4        544.65\n",
       "         ...   \n",
       "1632     999.95\n",
       "1633    1003.20\n",
       "1634    1009.90\n",
       "1635    1020.75\n",
       "1636    1026.50\n",
       "Name: Close, Length: 1637, dtype: float64"
      ]
     },
     "execution_count": 7,
     "metadata": {},
     "output_type": "execute_result"
    }
   ],
   "source": [
    "data1=data2['Close']\n",
    "data1"
   ]
  },
  {
   "cell_type": "code",
   "execution_count": 8,
   "id": "c297e731",
   "metadata": {},
   "outputs": [
    {
     "data": {
      "text/plain": [
       "[<matplotlib.lines.Line2D at 0x27fcff8e610>]"
      ]
     },
     "execution_count": 8,
     "metadata": {},
     "output_type": "execute_result"
    },
    {
     "data": {
      "image/png": "[encoded data removed]",
      "text/plain": [
       "<Figure size 432x288 with 1 Axes>"
      ]
     },
     "metadata": {
      "needs_background": "light"
     },
     "output_type": "display_data"
    }
   ],
   "source": [
    "plt.plot(data1)"
   ]
  },
  {
   "cell_type": "markdown",
   "id": "8523174f",
   "metadata": {},
   "source": [
    "Scale the dataset range within 0 to 1"
   ]
  },
  {
   "cell_type": "code",
   "execution_count": 9,
   "id": "36c7c1d1",
   "metadata": {},
   "outputs": [],
   "source": [
    "scaler=MinMaxScaler(feature_range=(0,1))\n",
    "data1=scaler.fit_transform(np.array(data1).reshape(-1,1))"
   ]
  },
  {
   "cell_type": "code",
   "execution_count": 10,
   "id": "18e01604",
   "metadata": {},
   "outputs": [
    {
     "data": {
      "text/plain": [
       "array([[0.11599524],\n",
       "       [0.11449154],\n",
       "       [0.11630997],\n",
       "       ...,\n",
       "       [0.4431389 ],\n",
       "       [0.45072737],\n",
       "       [0.45474892]])"
      ]
     },
     "execution_count": 10,
     "metadata": {},
     "output_type": "execute_result"
    }
   ],
   "source": [
    "data1"
   ]
  },
  {
   "cell_type": "code",
   "execution_count": 11,
   "id": "cb9f03dd",
   "metadata": {},
   "outputs": [
    {
     "data": {
      "text/plain": [
       "2"
      ]
     },
     "execution_count": 11,
     "metadata": {},
     "output_type": "execute_result"
    }
   ],
   "source": [
    "data1.ndim"
   ]
  },
  {
   "cell_type": "markdown",
   "id": "9bc7e86b",
   "metadata": {},
   "source": [
    "Split the data into train and test "
   ]
  },
  {
   "cell_type": "code",
   "execution_count": 17,
   "id": "c4aba687",
   "metadata": {},
   "outputs": [],
   "source": [
    "train_size=int(len(data1)*0.65)\n",
    "test_size=len(data1)-training_size\n",
    "train_data,test_data=data1[0:train_size,:],data1[train_size:len(data1),:1]"
   ]
  },
  {
   "cell_type": "code",
   "execution_count": 18,
   "id": "f90611ed",
   "metadata": {},
   "outputs": [
    {
     "data": {
      "text/plain": [
       "(1064, 573)"
      ]
     },
     "execution_count": 18,
     "metadata": {},
     "output_type": "execute_result"
    }
   ],
   "source": [
    "train_size,test_size"
   ]
  },
  {
   "cell_type": "code",
   "execution_count": 19,
   "id": "f220062e",
   "metadata": {},
   "outputs": [
    {
     "data": {
      "text/plain": [
       "array([[0.11599524],\n",
       "       [0.11449154],\n",
       "       [0.11630997],\n",
       "       ...,\n",
       "       [0.14222269],\n",
       "       [0.10749755],\n",
       "       [0.13991467]])"
      ]
     },
     "execution_count": 19,
     "metadata": {},
     "output_type": "execute_result"
    }
   ],
   "source": [
    "train_data"
   ]
  },
  {
   "cell_type": "markdown",
   "id": "f361ecf4",
   "metadata": {},
   "source": [
    "Convert an array of values into a dataset matrix"
   ]
  },
  {
   "cell_type": "code",
   "execution_count": 20,
   "id": "f798db2c",
   "metadata": {},
   "outputs": [],
   "source": [
    "def create_dataset(dataset, time_step=1):\n",
    "    dataX, dataY = [], []\n",
    "    for i in range(len(dataset)-time_step-1):\n",
    "        a = dataset[i:(i+time_step), 0]   ###i=0, 0,1,2,3-----99   100 \n",
    "        dataX.append(a)\n",
    "        dataY.append(dataset[i + time_step, 0])\n",
    "    return numpy.array(dataX), numpy.array(dataY)"
   ]
  },
  {
   "cell_type": "code",
   "execution_count": 21,
   "id": "5884eeb9",
   "metadata": {},
   "outputs": [],
   "source": [
    "# reshape into X=t,t+1,t+2,t+3 and Y=t+4\n",
    "time_step = 100\n",
    "X_train, y_train = create_dataset(train_data, time_step)\n",
    "X_test, ytest = create_dataset(test_data, time_step)"
   ]
  },
  {
   "cell_type": "code",
   "execution_count": 22,
   "id": "9a4bad4f",
   "metadata": {},
   "outputs": [
    {
     "name": "stdout",
     "output_type": "stream",
     "text": [
      "(963, 100)\n",
      "(963,)\n"
     ]
    },
    {
     "data": {
      "text/plain": [
       "(None, None)"
      ]
     },
     "execution_count": 22,
     "metadata": {},
     "output_type": "execute_result"
    }
   ],
   "source": [
    "print(X_train.shape), print(y_train.shape)"
   ]
  },
  {
   "cell_type": "code",
   "execution_count": 23,
   "id": "a9d00807",
   "metadata": {},
   "outputs": [
    {
     "name": "stdout",
     "output_type": "stream",
     "text": [
      "(472, 100)\n",
      "(472,)\n"
     ]
    },
    {
     "data": {
      "text/plain": [
       "(None, None)"
      ]
     },
     "execution_count": 23,
     "metadata": {},
     "output_type": "execute_result"
    }
   ],
   "source": [
    "print(X_test.shape),print(ytest.shape)"
   ]
  },
  {
   "cell_type": "code",
   "execution_count": 24,
   "id": "8c9e1116",
   "metadata": {},
   "outputs": [],
   "source": [
    "X_train =X_train.reshape(X_train.shape[0],X_train.shape[1] , 1)\n",
    "X_test = X_test.reshape(X_test.shape[0],X_test.shape[1] , 1)"
   ]
  },
  {
   "cell_type": "markdown",
   "id": "dc223097",
   "metadata": {},
   "source": [
    "Create the Stacked LSTM model"
   ]
  },
  {
   "cell_type": "code",
   "execution_count": 25,
   "id": "2d3ef77c",
   "metadata": {},
   "outputs": [],
   "source": [
    "model=Sequential()\n",
    "model.add(LSTM(50,return_sequences=True,input_shape=(100,1)))\n",
    "model.add(LSTM(50,return_sequences=True))\n",
    "model.add(LSTM(50))\n",
    "model.add(Dense(1))\n",
    "model.compile(loss='mean_squared_error',optimizer='adam')"
   ]
  },
  {
   "cell_type": "code",
   "execution_count": 26,
   "id": "8f042cbc",
   "metadata": {},
   "outputs": [
    {
     "name": "stdout",
     "output_type": "stream",
     "text": [
      "Model: \"sequential\"\n",
      "_________________________________________________________________\n",
      " Layer (type)                Output Shape              Param #   \n",
      "=================================================================\n",
      " lstm (LSTM)                 (None, 100, 50)           10400     \n",
      "                                                                 \n",
      " lstm_1 (LSTM)               (None, 100, 50)           20200     \n",
      "                                                                 \n",
      " lstm_2 (LSTM)               (None, 50)                20200     \n",
      "                                                                 \n",
      " dense (Dense)               (None, 1)                 51        \n",
      "                                                                 \n",
      "=================================================================\n",
      "Total params: 50,851\n",
      "Trainable params: 50,851\n",
      "Non-trainable params: 0\n",
      "_________________________________________________________________\n"
     ]
    }
   ],
   "source": [
    "model.summary()"
   ]
  },
  {
   "cell_type": "code",
   "execution_count": 27,
   "id": "2718d254",
   "metadata": {},
   "outputs": [
    {
     "name": "stdout",
     "output_type": "stream",
     "text": [
      "Epoch 1/100\n",
      "16/16 [==============================] - 9s 215ms/step - loss: 0.0080 - val_loss: 0.0409\n",
      "Epoch 2/100\n",
      "16/16 [==============================] - 2s 136ms/step - loss: 0.0017 - val_loss: 0.0068\n",
      "Epoch 3/100\n",
      "16/16 [==============================] - 2s 142ms/step - loss: 0.0010 - val_loss: 0.0036\n",
      "Epoch 4/100\n",
      "16/16 [==============================] - 2s 138ms/step - loss: 8.4336e-04 - val_loss: 0.0037\n",
      "Epoch 5/100\n",
      "16/16 [==============================] - 2s 144ms/step - loss: 8.1480e-04 - val_loss: 0.0047\n",
      "Epoch 6/100\n",
      "16/16 [==============================] - 2s 140ms/step - loss: 7.5199e-04 - val_loss: 0.0051\n",
      "Epoch 7/100\n",
      "16/16 [==============================] - 2s 141ms/step - loss: 7.0377e-04 - val_loss: 0.0050\n",
      "Epoch 8/100\n",
      "16/16 [==============================] - 2s 137ms/step - loss: 6.5781e-04 - val_loss: 0.0030\n",
      "Epoch 9/100\n",
      "16/16 [==============================] - 2s 133ms/step - loss: 6.1640e-04 - val_loss: 0.0054\n",
      "Epoch 10/100\n",
      "16/16 [==============================] - 2s 133ms/step - loss: 6.0621e-04 - val_loss: 0.0019\n",
      "Epoch 11/100\n",
      "16/16 [==============================] - 2s 134ms/step - loss: 5.9878e-04 - val_loss: 0.0082\n",
      "Epoch 12/100\n",
      "16/16 [==============================] - 2s 132ms/step - loss: 6.1774e-04 - val_loss: 0.0054\n",
      "Epoch 13/100\n",
      "16/16 [==============================] - 2s 135ms/step - loss: 5.1927e-04 - val_loss: 0.0065\n",
      "Epoch 14/100\n",
      "16/16 [==============================] - 2s 137ms/step - loss: 5.2587e-04 - val_loss: 0.0074\n",
      "Epoch 15/100\n",
      "16/16 [==============================] - 2s 133ms/step - loss: 5.4978e-04 - val_loss: 0.0041\n",
      "Epoch 16/100\n",
      "16/16 [==============================] - 2s 138ms/step - loss: 4.7190e-04 - val_loss: 0.0024\n",
      "Epoch 17/100\n",
      "16/16 [==============================] - 2s 134ms/step - loss: 5.8716e-04 - val_loss: 0.0080\n",
      "Epoch 18/100\n",
      "16/16 [==============================] - 2s 131ms/step - loss: 4.4157e-04 - val_loss: 0.0070\n",
      "Epoch 19/100\n",
      "16/16 [==============================] - 2s 130ms/step - loss: 4.4512e-04 - val_loss: 0.0033\n",
      "Epoch 20/100\n",
      "16/16 [==============================] - 2s 131ms/step - loss: 4.1984e-04 - val_loss: 0.0094\n",
      "Epoch 21/100\n",
      "16/16 [==============================] - 2s 139ms/step - loss: 4.2726e-04 - val_loss: 0.0022\n",
      "Epoch 22/100\n",
      "16/16 [==============================] - 2s 143ms/step - loss: 4.4844e-04 - val_loss: 0.0074\n",
      "Epoch 23/100\n",
      "16/16 [==============================] - 2s 132ms/step - loss: 3.7085e-04 - val_loss: 0.0068\n",
      "Epoch 24/100\n",
      "16/16 [==============================] - 2s 139ms/step - loss: 3.7109e-04 - val_loss: 0.0049\n",
      "Epoch 25/100\n",
      "16/16 [==============================] - 2s 129ms/step - loss: 3.6863e-04 - val_loss: 0.0068\n",
      "Epoch 26/100\n",
      "16/16 [==============================] - 2s 129ms/step - loss: 3.6376e-04 - val_loss: 0.0029\n",
      "Epoch 27/100\n",
      "16/16 [==============================] - 2s 130ms/step - loss: 3.8420e-04 - val_loss: 0.0046\n",
      "Epoch 28/100\n",
      "16/16 [==============================] - 2s 131ms/step - loss: 3.6223e-04 - val_loss: 0.0041\n",
      "Epoch 29/100\n",
      "16/16 [==============================] - 2s 130ms/step - loss: 3.4034e-04 - val_loss: 0.0064\n",
      "Epoch 30/100\n",
      "16/16 [==============================] - 2s 130ms/step - loss: 3.3429e-04 - val_loss: 0.0045\n",
      "Epoch 31/100\n",
      "16/16 [==============================] - 2s 135ms/step - loss: 3.3709e-04 - val_loss: 0.0062\n",
      "Epoch 32/100\n",
      "16/16 [==============================] - 2s 136ms/step - loss: 3.3742e-04 - val_loss: 0.0042\n",
      "Epoch 33/100\n",
      "16/16 [==============================] - 2s 136ms/step - loss: 3.3668e-04 - val_loss: 0.0030\n",
      "Epoch 34/100\n",
      "16/16 [==============================] - 2s 130ms/step - loss: 3.3733e-04 - val_loss: 0.0041\n",
      "Epoch 35/100\n",
      "16/16 [==============================] - 2s 129ms/step - loss: 3.0531e-04 - val_loss: 0.0036\n",
      "Epoch 36/100\n",
      "16/16 [==============================] - 2s 131ms/step - loss: 3.0065e-04 - val_loss: 0.0092\n",
      "Epoch 37/100\n",
      "16/16 [==============================] - 2s 131ms/step - loss: 5.0954e-04 - val_loss: 0.0036\n",
      "Epoch 38/100\n",
      "16/16 [==============================] - 2s 128ms/step - loss: 4.0058e-04 - val_loss: 0.0023\n",
      "Epoch 39/100\n",
      "16/16 [==============================] - 2s 131ms/step - loss: 2.9539e-04 - val_loss: 0.0028\n",
      "Epoch 40/100\n",
      "16/16 [==============================] - 2s 132ms/step - loss: 2.9967e-04 - val_loss: 0.0054\n",
      "Epoch 41/100\n",
      "16/16 [==============================] - 2s 133ms/step - loss: 3.0317e-04 - val_loss: 0.0043\n",
      "Epoch 42/100\n",
      "16/16 [==============================] - 2s 126ms/step - loss: 2.9990e-04 - val_loss: 0.0020\n",
      "Epoch 43/100\n",
      "16/16 [==============================] - 2s 126ms/step - loss: 2.7365e-04 - val_loss: 0.0044\n",
      "Epoch 44/100\n",
      "16/16 [==============================] - 2s 129ms/step - loss: 2.7748e-04 - val_loss: 0.0023\n",
      "Epoch 45/100\n",
      "16/16 [==============================] - 2s 127ms/step - loss: 2.6652e-04 - val_loss: 0.0045\n",
      "Epoch 46/100\n",
      "16/16 [==============================] - 2s 130ms/step - loss: 2.7215e-04 - val_loss: 0.0014\n",
      "Epoch 47/100\n",
      "16/16 [==============================] - 2s 127ms/step - loss: 2.6699e-04 - val_loss: 0.0014\n",
      "Epoch 48/100\n",
      "16/16 [==============================] - 2s 127ms/step - loss: 2.7378e-04 - val_loss: 0.0033\n",
      "Epoch 49/100\n",
      "16/16 [==============================] - 2s 130ms/step - loss: 2.6167e-04 - val_loss: 0.0040\n",
      "Epoch 50/100\n",
      "16/16 [==============================] - 2s 134ms/step - loss: 2.9455e-04 - val_loss: 0.0024\n",
      "Epoch 51/100\n",
      "16/16 [==============================] - 2s 129ms/step - loss: 2.5932e-04 - val_loss: 0.0027\n",
      "Epoch 52/100\n",
      "16/16 [==============================] - 2s 130ms/step - loss: 2.5107e-04 - val_loss: 0.0016\n",
      "Epoch 53/100\n",
      "16/16 [==============================] - 2s 135ms/step - loss: 2.3532e-04 - val_loss: 0.0030\n",
      "Epoch 54/100\n",
      "16/16 [==============================] - 2s 131ms/step - loss: 2.5812e-04 - val_loss: 0.0024\n",
      "Epoch 55/100\n",
      "16/16 [==============================] - 2s 129ms/step - loss: 2.4015e-04 - val_loss: 7.1977e-04\n",
      "Epoch 56/100\n",
      "16/16 [==============================] - 2s 128ms/step - loss: 2.3899e-04 - val_loss: 0.0026\n",
      "Epoch 57/100\n",
      "16/16 [==============================] - 2s 127ms/step - loss: 2.2528e-04 - val_loss: 6.6221e-04\n",
      "Epoch 58/100\n",
      "16/16 [==============================] - 2s 127ms/step - loss: 2.5401e-04 - val_loss: 0.0016\n",
      "Epoch 59/100\n",
      "16/16 [==============================] - 2s 130ms/step - loss: 2.6306e-04 - val_loss: 0.0019\n",
      "Epoch 60/100\n",
      "16/16 [==============================] - 2s 129ms/step - loss: 2.2070e-04 - val_loss: 0.0026\n",
      "Epoch 61/100\n",
      "16/16 [==============================] - 2s 129ms/step - loss: 2.1062e-04 - val_loss: 0.0010\n",
      "Epoch 62/100\n",
      "16/16 [==============================] - 2s 126ms/step - loss: 2.1000e-04 - val_loss: 9.4908e-04\n",
      "Epoch 63/100\n",
      "16/16 [==============================] - 2s 127ms/step - loss: 2.0626e-04 - val_loss: 0.0011\n",
      "Epoch 64/100\n",
      "16/16 [==============================] - 2s 134ms/step - loss: 1.9856e-04 - val_loss: 9.6417e-04\n",
      "Epoch 65/100\n",
      "16/16 [==============================] - 2s 135ms/step - loss: 1.9405e-04 - val_loss: 0.0014\n",
      "Epoch 66/100\n",
      "16/16 [==============================] - 2s 128ms/step - loss: 2.0584e-04 - val_loss: 7.0630e-04\n",
      "Epoch 67/100\n",
      "16/16 [==============================] - 2s 129ms/step - loss: 2.2054e-04 - val_loss: 8.2928e-04\n",
      "Epoch 68/100\n",
      "16/16 [==============================] - 2s 145ms/step - loss: 2.0127e-04 - val_loss: 5.7531e-04\n",
      "Epoch 69/100\n",
      "16/16 [==============================] - 2s 132ms/step - loss: 1.9909e-04 - val_loss: 7.8850e-04\n",
      "Epoch 70/100\n",
      "16/16 [==============================] - 2s 131ms/step - loss: 2.0393e-04 - val_loss: 9.3002e-04\n",
      "Epoch 71/100\n",
      "16/16 [==============================] - 2s 138ms/step - loss: 1.8320e-04 - val_loss: 0.0017\n",
      "Epoch 72/100\n",
      "16/16 [==============================] - 2s 134ms/step - loss: 1.7375e-04 - val_loss: 0.0014\n",
      "Epoch 73/100\n",
      "16/16 [==============================] - 2s 130ms/step - loss: 1.7983e-04 - val_loss: 0.0019\n",
      "Epoch 74/100\n",
      "16/16 [==============================] - 2s 136ms/step - loss: 2.4615e-04 - val_loss: 0.0033\n",
      "Epoch 75/100\n",
      "16/16 [==============================] - 2s 133ms/step - loss: 3.2604e-04 - val_loss: 0.0024\n",
      "Epoch 76/100\n",
      "16/16 [==============================] - 2s 128ms/step - loss: 2.3005e-04 - val_loss: 0.0012\n",
      "Epoch 77/100\n",
      "16/16 [==============================] - 2s 133ms/step - loss: 1.8259e-04 - val_loss: 0.0042\n",
      "Epoch 78/100\n"
     ]
    },
    {
     "name": "stdout",
     "output_type": "stream",
     "text": [
      "16/16 [==============================] - 2s 127ms/step - loss: 1.7462e-04 - val_loss: 0.0026\n",
      "Epoch 79/100\n",
      "16/16 [==============================] - 2s 129ms/step - loss: 1.6164e-04 - val_loss: 0.0019\n",
      "Epoch 80/100\n",
      "16/16 [==============================] - 2s 134ms/step - loss: 1.8324e-04 - val_loss: 0.0047\n",
      "Epoch 81/100\n",
      "16/16 [==============================] - 2s 131ms/step - loss: 2.2298e-04 - val_loss: 0.0012\n",
      "Epoch 82/100\n",
      "16/16 [==============================] - 2s 130ms/step - loss: 1.5411e-04 - val_loss: 0.0014\n",
      "Epoch 83/100\n",
      "16/16 [==============================] - 2s 127ms/step - loss: 1.5725e-04 - val_loss: 0.0019\n",
      "Epoch 84/100\n",
      "16/16 [==============================] - 2s 127ms/step - loss: 1.5338e-04 - val_loss: 9.1767e-04\n",
      "Epoch 85/100\n",
      "16/16 [==============================] - 2s 129ms/step - loss: 1.4945e-04 - val_loss: 8.9427e-04\n",
      "Epoch 86/100\n",
      "16/16 [==============================] - 2s 133ms/step - loss: 1.4868e-04 - val_loss: 0.0013\n",
      "Epoch 87/100\n",
      "16/16 [==============================] - 2s 137ms/step - loss: 1.4518e-04 - val_loss: 7.2388e-04\n",
      "Epoch 88/100\n",
      "16/16 [==============================] - 2s 133ms/step - loss: 1.4592e-04 - val_loss: 0.0012\n",
      "Epoch 89/100\n",
      "16/16 [==============================] - 2s 129ms/step - loss: 1.4145e-04 - val_loss: 0.0014\n",
      "Epoch 90/100\n",
      "16/16 [==============================] - 2s 133ms/step - loss: 1.4543e-04 - val_loss: 5.7898e-04\n",
      "Epoch 91/100\n",
      "16/16 [==============================] - 2s 132ms/step - loss: 2.1583e-04 - val_loss: 5.6751e-04\n",
      "Epoch 92/100\n",
      "16/16 [==============================] - 2s 132ms/step - loss: 1.4992e-04 - val_loss: 0.0010\n",
      "Epoch 93/100\n",
      "16/16 [==============================] - 2s 131ms/step - loss: 1.4626e-04 - val_loss: 9.2549e-04\n",
      "Epoch 94/100\n",
      "16/16 [==============================] - 2s 133ms/step - loss: 1.3997e-04 - val_loss: 5.1219e-04\n",
      "Epoch 95/100\n",
      "16/16 [==============================] - 2s 139ms/step - loss: 1.4462e-04 - val_loss: 6.4819e-04\n",
      "Epoch 96/100\n",
      "16/16 [==============================] - 2s 131ms/step - loss: 1.3923e-04 - val_loss: 4.5697e-04\n",
      "Epoch 97/100\n",
      "16/16 [==============================] - 2s 131ms/step - loss: 1.3616e-04 - val_loss: 6.4412e-04\n",
      "Epoch 98/100\n",
      "16/16 [==============================] - 2s 133ms/step - loss: 1.3796e-04 - val_loss: 4.9574e-04\n",
      "Epoch 99/100\n",
      "16/16 [==============================] - 2s 133ms/step - loss: 1.3206e-04 - val_loss: 5.4536e-04\n",
      "Epoch 100/100\n",
      "16/16 [==============================] - 2s 131ms/step - loss: 1.3551e-04 - val_loss: 8.0149e-04\n"
     ]
    },
    {
     "data": {
      "text/plain": [
       "<keras.callbacks.History at 0x27fd758eac0>"
      ]
     },
     "execution_count": 27,
     "metadata": {},
     "output_type": "execute_result"
    }
   ],
   "source": [
    "model.fit(X_train,y_train,validation_data=(X_test,ytest),epochs=100,batch_size=64,verbose=1)"
   ]
  },
  {
   "cell_type": "markdown",
   "id": "bd810239",
   "metadata": {},
   "source": [
    "Lets Do the prediction and check performance metrics"
   ]
  },
  {
   "cell_type": "code",
   "execution_count": 28,
   "id": "d4e202ca",
   "metadata": {},
   "outputs": [
    {
     "name": "stdout",
     "output_type": "stream",
     "text": [
      "31/31 [==============================] - 2s 25ms/step\n",
      "15/15 [==============================] - 0s 25ms/step\n"
     ]
    }
   ],
   "source": [
    "train_predict=model.predict(X_train)\n",
    "test_predict=model.predict(X_test)"
   ]
  },
  {
   "cell_type": "markdown",
   "id": "5e51d8ff",
   "metadata": {},
   "source": [
    "Transformback to original form"
   ]
  },
  {
   "cell_type": "code",
   "execution_count": 29,
   "id": "b0887dad",
   "metadata": {},
   "outputs": [],
   "source": [
    "train_predict=scaler.inverse_transform(train_predict)\n",
    "test_predict=scaler.inverse_transform(test_predict)"
   ]
  },
  {
   "cell_type": "markdown",
   "id": "d9b07366",
   "metadata": {},
   "source": [
    "Calculate MSE performance metrics"
   ]
  },
  {
   "cell_type": "code",
   "execution_count": 30,
   "id": "6461dafa",
   "metadata": {},
   "outputs": [
    {
     "data": {
      "text/plain": [
       "618.5036172578098"
      ]
     },
     "execution_count": 30,
     "metadata": {},
     "output_type": "execute_result"
    }
   ],
   "source": [
    "math.sqrt(mean_squared_error(y_train,train_predict))"
   ]
  },
  {
   "cell_type": "code",
   "execution_count": 31,
   "id": "318dec2b",
   "metadata": {},
   "outputs": [
    {
     "data": {
      "text/plain": [
       "1184.1223644567713"
      ]
     },
     "execution_count": 31,
     "metadata": {},
     "output_type": "execute_result"
    }
   ],
   "source": [
    "math.sqrt(mean_squared_error(ytest,test_predict))"
   ]
  },
  {
   "cell_type": "markdown",
   "id": "2f22054d",
   "metadata": {},
   "source": [
    "Plotting "
   ]
  },
  {
   "cell_type": "code",
   "execution_count": 32,
   "id": "fe30e61d",
   "metadata": {},
   "outputs": [
    {
     "data": {
      "image/png": "[encoded data removed]",
      "text/plain": [
       "<Figure size 432x288 with 1 Axes>"
      ]
     },
     "metadata": {
      "needs_background": "light"
     },
     "output_type": "display_data"
    }
   ],
   "source": [
    "# shift train predictions for plotting\n",
    "look_back=100\n",
    "trainPredictPlot = numpy.empty_like(data1)\n",
    "trainPredictPlot[:, :] = np.nan\n",
    "trainPredictPlot[look_back:len(train_predict)+look_back, :] = train_predict\n",
    "# shift test predictions for plotting\n",
    "testPredictPlot = numpy.empty_like(data1)\n",
    "testPredictPlot[:, :] = numpy.nan\n",
    "testPredictPlot[len(train_predict)+(look_back*2)+1:len(data1)-1, :] = test_predict\n",
    "# plot baseline and predictions\n",
    "plt.plot(scaler.inverse_transform(data1))\n",
    "plt.plot(trainPredictPlot)\n",
    "plt.plot(testPredictPlot)\n",
    "plt.show()"
   ]
  },
  {
   "cell_type": "code",
   "execution_count": 33,
   "id": "fd240572",
   "metadata": {},
   "outputs": [
    {
     "name": "stdout",
     "output_type": "stream",
     "text": [
      "573\n"
     ]
    },
    {
     "data": {
      "text/plain": [
       "473"
      ]
     },
     "execution_count": 33,
     "metadata": {},
     "output_type": "execute_result"
    }
   ],
   "source": [
    "c=len(test_data)\n",
    "print(c)\n",
    "c=c-100\n",
    "c"
   ]
  },
  {
   "cell_type": "code",
   "execution_count": 34,
   "id": "60233253",
   "metadata": {},
   "outputs": [
    {
     "data": {
      "text/plain": [
       "(1, 100)"
      ]
     },
     "execution_count": 34,
     "metadata": {},
     "output_type": "execute_result"
    }
   ],
   "source": [
    "x_input=test_data[c:].reshape(1,-1)\n",
    "x_input.shape"
   ]
  },
  {
   "cell_type": "code",
   "execution_count": 35,
   "id": "cb63ad3b",
   "metadata": {},
   "outputs": [],
   "source": [
    "temp_input=list(x_input)\n",
    "temp_input=temp_input[0].tolist()"
   ]
  },
  {
   "cell_type": "code",
   "execution_count": 36,
   "id": "e2bce77a",
   "metadata": {},
   "outputs": [
    {
     "data": {
      "text/plain": [
       "[0.7090851867394041,\n",
       " 0.7437054133445238,\n",
       " 0.7467477968946705,\n",
       " 0.7492306616309972,\n",
       " 0.7425164358651559,\n",
       " 0.7287033151489719,\n",
       " 0.7247517135263672,\n",
       " 0.7252762624143236,\n",
       " 0.6691145614771297,\n",
       " 0.7087704574066302,\n",
       " 0.7229682473073158,\n",
       " 0.7120226605119597,\n",
       " 0.7346132326199468,\n",
       " 0.7534620226605118,\n",
       " 0.7328297664008951,\n",
       " 0.7593020002797595,\n",
       " 0.7892362568191356,\n",
       " 0.7756679255839976,\n",
       " 0.7766820534340466,\n",
       " 0.788012309413904,\n",
       " 0.7569590152468875,\n",
       " 0.7788501888375996,\n",
       " 0.7813680234997902,\n",
       " 0.7717862638131205,\n",
       " 0.812631137221989,\n",
       " 0.8153937613652258,\n",
       " 0.8338578822212896,\n",
       " 0.8072807385648342,\n",
       " 0.8030144076094559,\n",
       " 0.8015456707231778,\n",
       " 0.7833263393481604,\n",
       " 0.7855294446775773,\n",
       " 0.7768918729892291,\n",
       " 0.7849699258637572,\n",
       " 0.7782557000979158,\n",
       " 0.7574835641348439,\n",
       " 0.7639180304937752,\n",
       " 0.7500699398517274,\n",
       " 0.7503846691845013,\n",
       " 0.7264652398936915,\n",
       " 0.7232829766400894,\n",
       " 0.6771926143516576,\n",
       " 0.6468736886277802,\n",
       " 0.6524688767659812,\n",
       " 0.6549167715764443,\n",
       " 0.6505805007693384,\n",
       " 0.6253322142957058,\n",
       " 0.6288641768079453,\n",
       " 0.618932717862638,\n",
       " 0.6259616729612534,\n",
       " 0.6173590711987691,\n",
       " 0.5979157924185201,\n",
       " 0.5850468597006573,\n",
       " 0.6204014547489158,\n",
       " 0.6395649741222549,\n",
       " 0.6188627780109106,\n",
       " 0.6056791159602741,\n",
       " 0.5931948524269128,\n",
       " 0.5850468597006573,\n",
       " 0.5780878444537696,\n",
       " 0.5684361449153728,\n",
       " 0.5748356413484403,\n",
       " 0.5565463701216953,\n",
       " 0.5119946845712686,\n",
       " 0.5277661211358233,\n",
       " 0.5361589033431249,\n",
       " 0.5050006993985172,\n",
       " 0.47828367603860683,\n",
       " 0.49118757868233315,\n",
       " 0.5224157224786683,\n",
       " 0.5509162120576305,\n",
       " 0.5622814379633516,\n",
       " 0.5387466778570429,\n",
       " 0.5383270387466779,\n",
       " 0.5396558959295006,\n",
       " 0.5370681214155826,\n",
       " 0.5273464820254581,\n",
       " 0.5230801510700798,\n",
       " 0.5331514897188416,\n",
       " 0.5130437823471814,\n",
       " 0.4725486081969506,\n",
       " 0.4573017205203525,\n",
       " 0.45023779549587356,\n",
       " 0.4189397118478108,\n",
       " 0.4117708770457406,\n",
       " 0.42177227584277527,\n",
       " 0.43628479507623447,\n",
       " 0.422226884879004,\n",
       " 0.42999020842075814,\n",
       " 0.42306616309973427,\n",
       " 0.44125052454888797,\n",
       " 0.4506924045321024,\n",
       " 0.45097216393901246,\n",
       " 0.4362148552245069,\n",
       " 0.443698419359351,\n",
       " 0.4361798852986432,\n",
       " 0.43845293047978745,\n",
       " 0.4431389005455308,\n",
       " 0.4507273744579661,\n",
       " 0.4547489159322982]"
      ]
     },
     "execution_count": 36,
     "metadata": {},
     "output_type": "execute_result"
    }
   ],
   "source": [
    "temp_input"
   ]
  },
  {
   "cell_type": "markdown",
   "id": "78c47c28",
   "metadata": {},
   "source": [
    "Demonstrate prediction for next few days"
   ]
  },
  {
   "cell_type": "code",
   "execution_count": 37,
   "id": "86f4e5ef",
   "metadata": {},
   "outputs": [
    {
     "name": "stdout",
     "output_type": "stream",
     "text": [
      "[0.45297763]\n",
      "101\n",
      "1 day input [0.74370541 0.7467478  0.74923066 0.74251644 0.72870332 0.72475171\n",
      " 0.72527626 0.66911456 0.70877046 0.72296825 0.71202266 0.73461323\n",
      " 0.75346202 0.73282977 0.759302   0.78923626 0.77566793 0.77668205\n",
      " 0.78801231 0.75695902 0.77885019 0.78136802 0.77178626 0.81263114\n",
      " 0.81539376 0.83385788 0.80728074 0.80301441 0.80154567 0.78332634\n",
      " 0.78552944 0.77689187 0.78496993 0.7782557  0.75748356 0.76391803\n",
      " 0.75006994 0.75038467 0.72646524 0.72328298 0.67719261 0.64687369\n",
      " 0.65246888 0.65491677 0.6505805  0.62533221 0.62886418 0.61893272\n",
      " 0.62596167 0.61735907 0.59791579 0.58504686 0.62040145 0.63956497\n",
      " 0.61886278 0.60567912 0.59319485 0.58504686 0.57808784 0.56843614\n",
      " 0.57483564 0.55654637 0.51199468 0.52776612 0.5361589  0.5050007\n",
      " 0.47828368 0.49118758 0.52241572 0.55091621 0.56228144 0.53874668\n",
      " 0.53832704 0.5396559  0.53706812 0.52734648 0.52308015 0.53315149\n",
      " 0.51304378 0.47254861 0.45730172 0.4502378  0.41893971 0.41177088\n",
      " 0.42177228 0.4362848  0.42222688 0.42999021 0.42306616 0.44125052\n",
      " 0.4506924  0.45097216 0.43621486 0.44369842 0.43617989 0.43845293\n",
      " 0.4431389  0.45072737 0.45474892 0.45297763]\n",
      "1 day output [[0.4517513]]\n",
      "2 day input [0.7467478  0.74923066 0.74251644 0.72870332 0.72475171 0.72527626\n",
      " 0.66911456 0.70877046 0.72296825 0.71202266 0.73461323 0.75346202\n",
      " 0.73282977 0.759302   0.78923626 0.77566793 0.77668205 0.78801231\n",
      " 0.75695902 0.77885019 0.78136802 0.77178626 0.81263114 0.81539376\n",
      " 0.83385788 0.80728074 0.80301441 0.80154567 0.78332634 0.78552944\n",
      " 0.77689187 0.78496993 0.7782557  0.75748356 0.76391803 0.75006994\n",
      " 0.75038467 0.72646524 0.72328298 0.67719261 0.64687369 0.65246888\n",
      " 0.65491677 0.6505805  0.62533221 0.62886418 0.61893272 0.62596167\n",
      " 0.61735907 0.59791579 0.58504686 0.62040145 0.63956497 0.61886278\n",
      " 0.60567912 0.59319485 0.58504686 0.57808784 0.56843614 0.57483564\n",
      " 0.55654637 0.51199468 0.52776612 0.5361589  0.5050007  0.47828368\n",
      " 0.49118758 0.52241572 0.55091621 0.56228144 0.53874668 0.53832704\n",
      " 0.5396559  0.53706812 0.52734648 0.52308015 0.53315149 0.51304378\n",
      " 0.47254861 0.45730172 0.4502378  0.41893971 0.41177088 0.42177228\n",
      " 0.4362848  0.42222688 0.42999021 0.42306616 0.44125052 0.4506924\n",
      " 0.45097216 0.43621486 0.44369842 0.43617989 0.43845293 0.4431389\n",
      " 0.45072737 0.45474892 0.45297763 0.45175129]\n",
      "2 day output [[0.44719538]]\n",
      "3 day input [0.74923066 0.74251644 0.72870332 0.72475171 0.72527626 0.66911456\n",
      " 0.70877046 0.72296825 0.71202266 0.73461323 0.75346202 0.73282977\n",
      " 0.759302   0.78923626 0.77566793 0.77668205 0.78801231 0.75695902\n",
      " 0.77885019 0.78136802 0.77178626 0.81263114 0.81539376 0.83385788\n",
      " 0.80728074 0.80301441 0.80154567 0.78332634 0.78552944 0.77689187\n",
      " 0.78496993 0.7782557  0.75748356 0.76391803 0.75006994 0.75038467\n",
      " 0.72646524 0.72328298 0.67719261 0.64687369 0.65246888 0.65491677\n",
      " 0.6505805  0.62533221 0.62886418 0.61893272 0.62596167 0.61735907\n",
      " 0.59791579 0.58504686 0.62040145 0.63956497 0.61886278 0.60567912\n",
      " 0.59319485 0.58504686 0.57808784 0.56843614 0.57483564 0.55654637\n",
      " 0.51199468 0.52776612 0.5361589  0.5050007  0.47828368 0.49118758\n",
      " 0.52241572 0.55091621 0.56228144 0.53874668 0.53832704 0.5396559\n",
      " 0.53706812 0.52734648 0.52308015 0.53315149 0.51304378 0.47254861\n",
      " 0.45730172 0.4502378  0.41893971 0.41177088 0.42177228 0.4362848\n",
      " 0.42222688 0.42999021 0.42306616 0.44125052 0.4506924  0.45097216\n",
      " 0.43621486 0.44369842 0.43617989 0.43845293 0.4431389  0.45072737\n",
      " 0.45474892 0.45297763 0.45175129 0.44719538]\n",
      "3 day output [[0.44123566]]\n",
      "4 day input [0.74251644 0.72870332 0.72475171 0.72527626 0.66911456 0.70877046\n",
      " 0.72296825 0.71202266 0.73461323 0.75346202 0.73282977 0.759302\n",
      " 0.78923626 0.77566793 0.77668205 0.78801231 0.75695902 0.77885019\n",
      " 0.78136802 0.77178626 0.81263114 0.81539376 0.83385788 0.80728074\n",
      " 0.80301441 0.80154567 0.78332634 0.78552944 0.77689187 0.78496993\n",
      " 0.7782557  0.75748356 0.76391803 0.75006994 0.75038467 0.72646524\n",
      " 0.72328298 0.67719261 0.64687369 0.65246888 0.65491677 0.6505805\n",
      " 0.62533221 0.62886418 0.61893272 0.62596167 0.61735907 0.59791579\n",
      " 0.58504686 0.62040145 0.63956497 0.61886278 0.60567912 0.59319485\n",
      " 0.58504686 0.57808784 0.56843614 0.57483564 0.55654637 0.51199468\n",
      " 0.52776612 0.5361589  0.5050007  0.47828368 0.49118758 0.52241572\n",
      " 0.55091621 0.56228144 0.53874668 0.53832704 0.5396559  0.53706812\n",
      " 0.52734648 0.52308015 0.53315149 0.51304378 0.47254861 0.45730172\n",
      " 0.4502378  0.41893971 0.41177088 0.42177228 0.4362848  0.42222688\n",
      " 0.42999021 0.42306616 0.44125052 0.4506924  0.45097216 0.43621486\n",
      " 0.44369842 0.43617989 0.43845293 0.4431389  0.45072737 0.45474892\n",
      " 0.45297763 0.45175129 0.44719538 0.44123566]\n",
      "4 day output [[0.43455693]]\n",
      "5 day input [0.72870332 0.72475171 0.72527626 0.66911456 0.70877046 0.72296825\n",
      " 0.71202266 0.73461323 0.75346202 0.73282977 0.759302   0.78923626\n",
      " 0.77566793 0.77668205 0.78801231 0.75695902 0.77885019 0.78136802\n",
      " 0.77178626 0.81263114 0.81539376 0.83385788 0.80728074 0.80301441\n",
      " 0.80154567 0.78332634 0.78552944 0.77689187 0.78496993 0.7782557\n",
      " 0.75748356 0.76391803 0.75006994 0.75038467 0.72646524 0.72328298\n",
      " 0.67719261 0.64687369 0.65246888 0.65491677 0.6505805  0.62533221\n",
      " 0.62886418 0.61893272 0.62596167 0.61735907 0.59791579 0.58504686\n",
      " 0.62040145 0.63956497 0.61886278 0.60567912 0.59319485 0.58504686\n",
      " 0.57808784 0.56843614 0.57483564 0.55654637 0.51199468 0.52776612\n",
      " 0.5361589  0.5050007  0.47828368 0.49118758 0.52241572 0.55091621\n",
      " 0.56228144 0.53874668 0.53832704 0.5396559  0.53706812 0.52734648\n",
      " 0.52308015 0.53315149 0.51304378 0.47254861 0.45730172 0.4502378\n",
      " 0.41893971 0.41177088 0.42177228 0.4362848  0.42222688 0.42999021\n",
      " 0.42306616 0.44125052 0.4506924  0.45097216 0.43621486 0.44369842\n",
      " 0.43617989 0.43845293 0.4431389  0.45072737 0.45474892 0.45297763\n",
      " 0.45175129 0.44719538 0.44123566 0.43455693]\n",
      "5 day output [[0.42746004]]\n",
      "6 day input [0.72475171 0.72527626 0.66911456 0.70877046 0.72296825 0.71202266\n",
      " 0.73461323 0.75346202 0.73282977 0.759302   0.78923626 0.77566793\n",
      " 0.77668205 0.78801231 0.75695902 0.77885019 0.78136802 0.77178626\n",
      " 0.81263114 0.81539376 0.83385788 0.80728074 0.80301441 0.80154567\n",
      " 0.78332634 0.78552944 0.77689187 0.78496993 0.7782557  0.75748356\n",
      " 0.76391803 0.75006994 0.75038467 0.72646524 0.72328298 0.67719261\n",
      " 0.64687369 0.65246888 0.65491677 0.6505805  0.62533221 0.62886418\n",
      " 0.61893272 0.62596167 0.61735907 0.59791579 0.58504686 0.62040145\n",
      " 0.63956497 0.61886278 0.60567912 0.59319485 0.58504686 0.57808784\n",
      " 0.56843614 0.57483564 0.55654637 0.51199468 0.52776612 0.5361589\n",
      " 0.5050007  0.47828368 0.49118758 0.52241572 0.55091621 0.56228144\n",
      " 0.53874668 0.53832704 0.5396559  0.53706812 0.52734648 0.52308015\n",
      " 0.53315149 0.51304378 0.47254861 0.45730172 0.4502378  0.41893971\n",
      " 0.41177088 0.42177228 0.4362848  0.42222688 0.42999021 0.42306616\n",
      " 0.44125052 0.4506924  0.45097216 0.43621486 0.44369842 0.43617989\n",
      " 0.43845293 0.4431389  0.45072737 0.45474892 0.45297763 0.45175129\n",
      " 0.44719538 0.44123566 0.43455693 0.42746004]\n",
      "6 day output [[0.42002383]]\n",
      "7 day input [0.72527626 0.66911456 0.70877046 0.72296825 0.71202266 0.73461323\n",
      " 0.75346202 0.73282977 0.759302   0.78923626 0.77566793 0.77668205\n",
      " 0.78801231 0.75695902 0.77885019 0.78136802 0.77178626 0.81263114\n",
      " 0.81539376 0.83385788 0.80728074 0.80301441 0.80154567 0.78332634\n",
      " 0.78552944 0.77689187 0.78496993 0.7782557  0.75748356 0.76391803\n",
      " 0.75006994 0.75038467 0.72646524 0.72328298 0.67719261 0.64687369\n",
      " 0.65246888 0.65491677 0.6505805  0.62533221 0.62886418 0.61893272\n",
      " 0.62596167 0.61735907 0.59791579 0.58504686 0.62040145 0.63956497\n",
      " 0.61886278 0.60567912 0.59319485 0.58504686 0.57808784 0.56843614\n",
      " 0.57483564 0.55654637 0.51199468 0.52776612 0.5361589  0.5050007\n",
      " 0.47828368 0.49118758 0.52241572 0.55091621 0.56228144 0.53874668\n",
      " 0.53832704 0.5396559  0.53706812 0.52734648 0.52308015 0.53315149\n",
      " 0.51304378 0.47254861 0.45730172 0.4502378  0.41893971 0.41177088\n",
      " 0.42177228 0.4362848  0.42222688 0.42999021 0.42306616 0.44125052\n",
      " 0.4506924  0.45097216 0.43621486 0.44369842 0.43617989 0.43845293\n",
      " 0.4431389  0.45072737 0.45474892 0.45297763 0.45175129 0.44719538\n",
      " 0.44123566 0.43455693 0.42746004 0.42002383]\n",
      "7 day output [[0.41215917]]\n",
      "8 day input [0.66911456 0.70877046 0.72296825 0.71202266 0.73461323 0.75346202\n",
      " 0.73282977 0.759302   0.78923626 0.77566793 0.77668205 0.78801231\n",
      " 0.75695902 0.77885019 0.78136802 0.77178626 0.81263114 0.81539376\n",
      " 0.83385788 0.80728074 0.80301441 0.80154567 0.78332634 0.78552944\n",
      " 0.77689187 0.78496993 0.7782557  0.75748356 0.76391803 0.75006994\n",
      " 0.75038467 0.72646524 0.72328298 0.67719261 0.64687369 0.65246888\n",
      " 0.65491677 0.6505805  0.62533221 0.62886418 0.61893272 0.62596167\n",
      " 0.61735907 0.59791579 0.58504686 0.62040145 0.63956497 0.61886278\n",
      " 0.60567912 0.59319485 0.58504686 0.57808784 0.56843614 0.57483564\n",
      " 0.55654637 0.51199468 0.52776612 0.5361589  0.5050007  0.47828368\n",
      " 0.49118758 0.52241572 0.55091621 0.56228144 0.53874668 0.53832704\n",
      " 0.5396559  0.53706812 0.52734648 0.52308015 0.53315149 0.51304378\n",
      " 0.47254861 0.45730172 0.4502378  0.41893971 0.41177088 0.42177228\n",
      " 0.4362848  0.42222688 0.42999021 0.42306616 0.44125052 0.4506924\n",
      " 0.45097216 0.43621486 0.44369842 0.43617989 0.43845293 0.4431389\n",
      " 0.45072737 0.45474892 0.45297763 0.45175129 0.44719538 0.44123566\n",
      " 0.43455693 0.42746004 0.42002383 0.41215917]\n",
      "8 day output [[0.40369144]]\n",
      "9 day input [0.70877046 0.72296825 0.71202266 0.73461323 0.75346202 0.73282977\n",
      " 0.759302   0.78923626 0.77566793 0.77668205 0.78801231 0.75695902\n",
      " 0.77885019 0.78136802 0.77178626 0.81263114 0.81539376 0.83385788\n",
      " 0.80728074 0.80301441 0.80154567 0.78332634 0.78552944 0.77689187\n",
      " 0.78496993 0.7782557  0.75748356 0.76391803 0.75006994 0.75038467\n",
      " 0.72646524 0.72328298 0.67719261 0.64687369 0.65246888 0.65491677\n",
      " 0.6505805  0.62533221 0.62886418 0.61893272 0.62596167 0.61735907\n",
      " 0.59791579 0.58504686 0.62040145 0.63956497 0.61886278 0.60567912\n",
      " 0.59319485 0.58504686 0.57808784 0.56843614 0.57483564 0.55654637\n",
      " 0.51199468 0.52776612 0.5361589  0.5050007  0.47828368 0.49118758\n",
      " 0.52241572 0.55091621 0.56228144 0.53874668 0.53832704 0.5396559\n",
      " 0.53706812 0.52734648 0.52308015 0.53315149 0.51304378 0.47254861\n",
      " 0.45730172 0.4502378  0.41893971 0.41177088 0.42177228 0.4362848\n",
      " 0.42222688 0.42999021 0.42306616 0.44125052 0.4506924  0.45097216\n",
      " 0.43621486 0.44369842 0.43617989 0.43845293 0.4431389  0.45072737\n",
      " 0.45474892 0.45297763 0.45175129 0.44719538 0.44123566 0.43455693\n",
      " 0.42746004 0.42002383 0.41215917 0.40369144]\n"
     ]
    },
    {
     "name": "stdout",
     "output_type": "stream",
     "text": [
      "9 day output [[0.39444885]]\n",
      "10 day input [0.72296825 0.71202266 0.73461323 0.75346202 0.73282977 0.759302\n",
      " 0.78923626 0.77566793 0.77668205 0.78801231 0.75695902 0.77885019\n",
      " 0.78136802 0.77178626 0.81263114 0.81539376 0.83385788 0.80728074\n",
      " 0.80301441 0.80154567 0.78332634 0.78552944 0.77689187 0.78496993\n",
      " 0.7782557  0.75748356 0.76391803 0.75006994 0.75038467 0.72646524\n",
      " 0.72328298 0.67719261 0.64687369 0.65246888 0.65491677 0.6505805\n",
      " 0.62533221 0.62886418 0.61893272 0.62596167 0.61735907 0.59791579\n",
      " 0.58504686 0.62040145 0.63956497 0.61886278 0.60567912 0.59319485\n",
      " 0.58504686 0.57808784 0.56843614 0.57483564 0.55654637 0.51199468\n",
      " 0.52776612 0.5361589  0.5050007  0.47828368 0.49118758 0.52241572\n",
      " 0.55091621 0.56228144 0.53874668 0.53832704 0.5396559  0.53706812\n",
      " 0.52734648 0.52308015 0.53315149 0.51304378 0.47254861 0.45730172\n",
      " 0.4502378  0.41893971 0.41177088 0.42177228 0.4362848  0.42222688\n",
      " 0.42999021 0.42306616 0.44125052 0.4506924  0.45097216 0.43621486\n",
      " 0.44369842 0.43617989 0.43845293 0.4431389  0.45072737 0.45474892\n",
      " 0.45297763 0.45175129 0.44719538 0.44123566 0.43455693 0.42746004\n",
      " 0.42002383 0.41215917 0.40369144 0.39444885]\n",
      "10 day output [[0.3843288]]\n",
      "11 day input [0.71202266 0.73461323 0.75346202 0.73282977 0.759302   0.78923626\n",
      " 0.77566793 0.77668205 0.78801231 0.75695902 0.77885019 0.78136802\n",
      " 0.77178626 0.81263114 0.81539376 0.83385788 0.80728074 0.80301441\n",
      " 0.80154567 0.78332634 0.78552944 0.77689187 0.78496993 0.7782557\n",
      " 0.75748356 0.76391803 0.75006994 0.75038467 0.72646524 0.72328298\n",
      " 0.67719261 0.64687369 0.65246888 0.65491677 0.6505805  0.62533221\n",
      " 0.62886418 0.61893272 0.62596167 0.61735907 0.59791579 0.58504686\n",
      " 0.62040145 0.63956497 0.61886278 0.60567912 0.59319485 0.58504686\n",
      " 0.57808784 0.56843614 0.57483564 0.55654637 0.51199468 0.52776612\n",
      " 0.5361589  0.5050007  0.47828368 0.49118758 0.52241572 0.55091621\n",
      " 0.56228144 0.53874668 0.53832704 0.5396559  0.53706812 0.52734648\n",
      " 0.52308015 0.53315149 0.51304378 0.47254861 0.45730172 0.4502378\n",
      " 0.41893971 0.41177088 0.42177228 0.4362848  0.42222688 0.42999021\n",
      " 0.42306616 0.44125052 0.4506924  0.45097216 0.43621486 0.44369842\n",
      " 0.43617989 0.43845293 0.4431389  0.45072737 0.45474892 0.45297763\n",
      " 0.45175129 0.44719538 0.44123566 0.43455693 0.42746004 0.42002383\n",
      " 0.41215917 0.40369144 0.39444885 0.38432881]\n",
      "11 day output [[0.37333012]]\n",
      "12 day input [0.73461323 0.75346202 0.73282977 0.759302   0.78923626 0.77566793\n",
      " 0.77668205 0.78801231 0.75695902 0.77885019 0.78136802 0.77178626\n",
      " 0.81263114 0.81539376 0.83385788 0.80728074 0.80301441 0.80154567\n",
      " 0.78332634 0.78552944 0.77689187 0.78496993 0.7782557  0.75748356\n",
      " 0.76391803 0.75006994 0.75038467 0.72646524 0.72328298 0.67719261\n",
      " 0.64687369 0.65246888 0.65491677 0.6505805  0.62533221 0.62886418\n",
      " 0.61893272 0.62596167 0.61735907 0.59791579 0.58504686 0.62040145\n",
      " 0.63956497 0.61886278 0.60567912 0.59319485 0.58504686 0.57808784\n",
      " 0.56843614 0.57483564 0.55654637 0.51199468 0.52776612 0.5361589\n",
      " 0.5050007  0.47828368 0.49118758 0.52241572 0.55091621 0.56228144\n",
      " 0.53874668 0.53832704 0.5396559  0.53706812 0.52734648 0.52308015\n",
      " 0.53315149 0.51304378 0.47254861 0.45730172 0.4502378  0.41893971\n",
      " 0.41177088 0.42177228 0.4362848  0.42222688 0.42999021 0.42306616\n",
      " 0.44125052 0.4506924  0.45097216 0.43621486 0.44369842 0.43617989\n",
      " 0.43845293 0.4431389  0.45072737 0.45474892 0.45297763 0.45175129\n",
      " 0.44719538 0.44123566 0.43455693 0.42746004 0.42002383 0.41215917\n",
      " 0.40369144 0.39444885 0.38432881 0.37333012]\n",
      "12 day output [[0.36155298]]\n",
      "13 day input [0.75346202 0.73282977 0.759302   0.78923626 0.77566793 0.77668205\n",
      " 0.78801231 0.75695902 0.77885019 0.78136802 0.77178626 0.81263114\n",
      " 0.81539376 0.83385788 0.80728074 0.80301441 0.80154567 0.78332634\n",
      " 0.78552944 0.77689187 0.78496993 0.7782557  0.75748356 0.76391803\n",
      " 0.75006994 0.75038467 0.72646524 0.72328298 0.67719261 0.64687369\n",
      " 0.65246888 0.65491677 0.6505805  0.62533221 0.62886418 0.61893272\n",
      " 0.62596167 0.61735907 0.59791579 0.58504686 0.62040145 0.63956497\n",
      " 0.61886278 0.60567912 0.59319485 0.58504686 0.57808784 0.56843614\n",
      " 0.57483564 0.55654637 0.51199468 0.52776612 0.5361589  0.5050007\n",
      " 0.47828368 0.49118758 0.52241572 0.55091621 0.56228144 0.53874668\n",
      " 0.53832704 0.5396559  0.53706812 0.52734648 0.52308015 0.53315149\n",
      " 0.51304378 0.47254861 0.45730172 0.4502378  0.41893971 0.41177088\n",
      " 0.42177228 0.4362848  0.42222688 0.42999021 0.42306616 0.44125052\n",
      " 0.4506924  0.45097216 0.43621486 0.44369842 0.43617989 0.43845293\n",
      " 0.4431389  0.45072737 0.45474892 0.45297763 0.45175129 0.44719538\n",
      " 0.44123566 0.43455693 0.42746004 0.42002383 0.41215917 0.40369144\n",
      " 0.39444885 0.38432881 0.37333012 0.36155298]\n",
      "13 day output [[0.34917685]]\n",
      "14 day input [0.73282977 0.759302   0.78923626 0.77566793 0.77668205 0.78801231\n",
      " 0.75695902 0.77885019 0.78136802 0.77178626 0.81263114 0.81539376\n",
      " 0.83385788 0.80728074 0.80301441 0.80154567 0.78332634 0.78552944\n",
      " 0.77689187 0.78496993 0.7782557  0.75748356 0.76391803 0.75006994\n",
      " 0.75038467 0.72646524 0.72328298 0.67719261 0.64687369 0.65246888\n",
      " 0.65491677 0.6505805  0.62533221 0.62886418 0.61893272 0.62596167\n",
      " 0.61735907 0.59791579 0.58504686 0.62040145 0.63956497 0.61886278\n",
      " 0.60567912 0.59319485 0.58504686 0.57808784 0.56843614 0.57483564\n",
      " 0.55654637 0.51199468 0.52776612 0.5361589  0.5050007  0.47828368\n",
      " 0.49118758 0.52241572 0.55091621 0.56228144 0.53874668 0.53832704\n",
      " 0.5396559  0.53706812 0.52734648 0.52308015 0.53315149 0.51304378\n",
      " 0.47254861 0.45730172 0.4502378  0.41893971 0.41177088 0.42177228\n",
      " 0.4362848  0.42222688 0.42999021 0.42306616 0.44125052 0.4506924\n",
      " 0.45097216 0.43621486 0.44369842 0.43617989 0.43845293 0.4431389\n",
      " 0.45072737 0.45474892 0.45297763 0.45175129 0.44719538 0.44123566\n",
      " 0.43455693 0.42746004 0.42002383 0.41215917 0.40369144 0.39444885\n",
      " 0.38432881 0.37333012 0.36155298 0.34917685]\n",
      "14 day output [[0.33642712]]\n",
      "15 day input [0.759302   0.78923626 0.77566793 0.77668205 0.78801231 0.75695902\n",
      " 0.77885019 0.78136802 0.77178626 0.81263114 0.81539376 0.83385788\n",
      " 0.80728074 0.80301441 0.80154567 0.78332634 0.78552944 0.77689187\n",
      " 0.78496993 0.7782557  0.75748356 0.76391803 0.75006994 0.75038467\n",
      " 0.72646524 0.72328298 0.67719261 0.64687369 0.65246888 0.65491677\n",
      " 0.6505805  0.62533221 0.62886418 0.61893272 0.62596167 0.61735907\n",
      " 0.59791579 0.58504686 0.62040145 0.63956497 0.61886278 0.60567912\n",
      " 0.59319485 0.58504686 0.57808784 0.56843614 0.57483564 0.55654637\n",
      " 0.51199468 0.52776612 0.5361589  0.5050007  0.47828368 0.49118758\n",
      " 0.52241572 0.55091621 0.56228144 0.53874668 0.53832704 0.5396559\n",
      " 0.53706812 0.52734648 0.52308015 0.53315149 0.51304378 0.47254861\n",
      " 0.45730172 0.4502378  0.41893971 0.41177088 0.42177228 0.4362848\n",
      " 0.42222688 0.42999021 0.42306616 0.44125052 0.4506924  0.45097216\n",
      " 0.43621486 0.44369842 0.43617989 0.43845293 0.4431389  0.45072737\n",
      " 0.45474892 0.45297763 0.45175129 0.44719538 0.44123566 0.43455693\n",
      " 0.42746004 0.42002383 0.41215917 0.40369144 0.39444885 0.38432881\n",
      " 0.37333012 0.36155298 0.34917685 0.33642712]\n",
      "15 day output [[0.32354164]]\n",
      "16 day input [0.78923626 0.77566793 0.77668205 0.78801231 0.75695902 0.77885019\n",
      " 0.78136802 0.77178626 0.81263114 0.81539376 0.83385788 0.80728074\n",
      " 0.80301441 0.80154567 0.78332634 0.78552944 0.77689187 0.78496993\n",
      " 0.7782557  0.75748356 0.76391803 0.75006994 0.75038467 0.72646524\n",
      " 0.72328298 0.67719261 0.64687369 0.65246888 0.65491677 0.6505805\n",
      " 0.62533221 0.62886418 0.61893272 0.62596167 0.61735907 0.59791579\n",
      " 0.58504686 0.62040145 0.63956497 0.61886278 0.60567912 0.59319485\n",
      " 0.58504686 0.57808784 0.56843614 0.57483564 0.55654637 0.51199468\n",
      " 0.52776612 0.5361589  0.5050007  0.47828368 0.49118758 0.52241572\n",
      " 0.55091621 0.56228144 0.53874668 0.53832704 0.5396559  0.53706812\n",
      " 0.52734648 0.52308015 0.53315149 0.51304378 0.47254861 0.45730172\n",
      " 0.4502378  0.41893971 0.41177088 0.42177228 0.4362848  0.42222688\n",
      " 0.42999021 0.42306616 0.44125052 0.4506924  0.45097216 0.43621486\n",
      " 0.44369842 0.43617989 0.43845293 0.4431389  0.45072737 0.45474892\n",
      " 0.45297763 0.45175129 0.44719538 0.44123566 0.43455693 0.42746004\n",
      " 0.42002383 0.41215917 0.40369144 0.39444885 0.38432881 0.37333012\n",
      " 0.36155298 0.34917685 0.33642712 0.32354164]\n",
      "16 day output [[0.31074357]]\n",
      "17 day input [0.77566793 0.77668205 0.78801231 0.75695902 0.77885019 0.78136802\n",
      " 0.77178626 0.81263114 0.81539376 0.83385788 0.80728074 0.80301441\n",
      " 0.80154567 0.78332634 0.78552944 0.77689187 0.78496993 0.7782557\n",
      " 0.75748356 0.76391803 0.75006994 0.75038467 0.72646524 0.72328298\n",
      " 0.67719261 0.64687369 0.65246888 0.65491677 0.6505805  0.62533221\n",
      " 0.62886418 0.61893272 0.62596167 0.61735907 0.59791579 0.58504686\n",
      " 0.62040145 0.63956497 0.61886278 0.60567912 0.59319485 0.58504686\n",
      " 0.57808784 0.56843614 0.57483564 0.55654637 0.51199468 0.52776612\n",
      " 0.5361589  0.5050007  0.47828368 0.49118758 0.52241572 0.55091621\n",
      " 0.56228144 0.53874668 0.53832704 0.5396559  0.53706812 0.52734648\n",
      " 0.52308015 0.53315149 0.51304378 0.47254861 0.45730172 0.4502378\n",
      " 0.41893971 0.41177088 0.42177228 0.4362848  0.42222688 0.42999021\n",
      " 0.42306616 0.44125052 0.4506924  0.45097216 0.43621486 0.44369842\n",
      " 0.43617989 0.43845293 0.4431389  0.45072737 0.45474892 0.45297763\n",
      " 0.45175129 0.44719538 0.44123566 0.43455693 0.42746004 0.42002383\n",
      " 0.41215917 0.40369144 0.39444885 0.38432881 0.37333012 0.36155298\n",
      " 0.34917685 0.33642712 0.32354164 0.31074357]\n",
      "17 day output [[0.2982255]]\n",
      "18 day input [0.77668205 0.78801231 0.75695902 0.77885019 0.78136802 0.77178626\n",
      " 0.81263114 0.81539376 0.83385788 0.80728074 0.80301441 0.80154567\n",
      " 0.78332634 0.78552944 0.77689187 0.78496993 0.7782557  0.75748356\n",
      " 0.76391803 0.75006994 0.75038467 0.72646524 0.72328298 0.67719261\n",
      " 0.64687369 0.65246888 0.65491677 0.6505805  0.62533221 0.62886418\n",
      " 0.61893272 0.62596167 0.61735907 0.59791579 0.58504686 0.62040145\n",
      " 0.63956497 0.61886278 0.60567912 0.59319485 0.58504686 0.57808784\n",
      " 0.56843614 0.57483564 0.55654637 0.51199468 0.52776612 0.5361589\n",
      " 0.5050007  0.47828368 0.49118758 0.52241572 0.55091621 0.56228144\n",
      " 0.53874668 0.53832704 0.5396559  0.53706812 0.52734648 0.52308015\n",
      " 0.53315149 0.51304378 0.47254861 0.45730172 0.4502378  0.41893971\n",
      " 0.41177088 0.42177228 0.4362848  0.42222688 0.42999021 0.42306616\n",
      " 0.44125052 0.4506924  0.45097216 0.43621486 0.44369842 0.43617989\n",
      " 0.43845293 0.4431389  0.45072737 0.45474892 0.45297763 0.45175129\n",
      " 0.44719538 0.44123566 0.43455693 0.42746004 0.42002383 0.41215917\n",
      " 0.40369144 0.39444885 0.38432881 0.37333012 0.36155298 0.34917685\n",
      " 0.33642712 0.32354164 0.31074357 0.29822549]\n"
     ]
    },
    {
     "name": "stdout",
     "output_type": "stream",
     "text": [
      "18 day output [[0.28614208]]\n",
      "19 day input [0.78801231 0.75695902 0.77885019 0.78136802 0.77178626 0.81263114\n",
      " 0.81539376 0.83385788 0.80728074 0.80301441 0.80154567 0.78332634\n",
      " 0.78552944 0.77689187 0.78496993 0.7782557  0.75748356 0.76391803\n",
      " 0.75006994 0.75038467 0.72646524 0.72328298 0.67719261 0.64687369\n",
      " 0.65246888 0.65491677 0.6505805  0.62533221 0.62886418 0.61893272\n",
      " 0.62596167 0.61735907 0.59791579 0.58504686 0.62040145 0.63956497\n",
      " 0.61886278 0.60567912 0.59319485 0.58504686 0.57808784 0.56843614\n",
      " 0.57483564 0.55654637 0.51199468 0.52776612 0.5361589  0.5050007\n",
      " 0.47828368 0.49118758 0.52241572 0.55091621 0.56228144 0.53874668\n",
      " 0.53832704 0.5396559  0.53706812 0.52734648 0.52308015 0.53315149\n",
      " 0.51304378 0.47254861 0.45730172 0.4502378  0.41893971 0.41177088\n",
      " 0.42177228 0.4362848  0.42222688 0.42999021 0.42306616 0.44125052\n",
      " 0.4506924  0.45097216 0.43621486 0.44369842 0.43617989 0.43845293\n",
      " 0.4431389  0.45072737 0.45474892 0.45297763 0.45175129 0.44719538\n",
      " 0.44123566 0.43455693 0.42746004 0.42002383 0.41215917 0.40369144\n",
      " 0.39444885 0.38432881 0.37333012 0.36155298 0.34917685 0.33642712\n",
      " 0.32354164 0.31074357 0.29822549 0.28614208]\n",
      "19 day output [[0.27461094]]\n",
      "[[0.45297762751579285], [0.4517512917518616], [0.4471953809261322], [0.44123566150665283], [0.4345569312572479], [0.42746004462242126], [0.4200238287448883], [0.41215917468070984], [0.40369144082069397], [0.394448846578598], [0.38432881236076355], [0.37333011627197266], [0.36155298352241516], [0.3491768538951874], [0.33642712235450745], [0.32354164123535156], [0.3107435703277588], [0.2982254922389984], [0.2861420810222626], [0.2746109366416931]]\n"
     ]
    }
   ],
   "source": [
    "lst_output=[]\n",
    "n_steps=100\n",
    "i=0\n",
    "b=20\n",
    "while(i<b):\n",
    "    \n",
    "    if(len(temp_input)>n_steps):\n",
    "        #print(temp_input)\n",
    "        x_input=np.array(temp_input[1:])\n",
    "        print(\"{} day input {}\".format(i,x_input))\n",
    "        x_input=x_input.reshape(1,-1)\n",
    "        x_input = x_input.reshape((1, n_steps, 1))\n",
    "        #print(x_input)\n",
    "        yhat = model.predict(x_input, verbose=0)\n",
    "        print(\"{} day output {}\".format(i,yhat))\n",
    "        temp_input.extend(yhat[0].tolist())\n",
    "        temp_input=temp_input[1:]\n",
    "        #print(temp_input)\n",
    "        lst_output.extend(yhat.tolist())\n",
    "        i=i+1\n",
    "    else:\n",
    "        x_input = x_input.reshape((1, n_steps,1))\n",
    "        yhat = model.predict(x_input, verbose=0)\n",
    "        print(yhat[0])\n",
    "        temp_input.extend(yhat[0].tolist())\n",
    "        print(len(temp_input))\n",
    "        lst_output.extend(yhat.tolist())\n",
    "        i=i+1\n",
    "    \n",
    "\n",
    "print(lst_output)"
   ]
  },
  {
   "cell_type": "code",
   "execution_count": 38,
   "id": "23afaecf",
   "metadata": {},
   "outputs": [],
   "source": [
    "n_step=n_steps+1\n",
    "z=n_step+b\n",
    "day_new=np.arange(1,n_step)\n",
    "day_pred=np.arange(n_step,z)"
   ]
  },
  {
   "cell_type": "code",
   "execution_count": 39,
   "id": "f5526884",
   "metadata": {},
   "outputs": [
    {
     "data": {
      "text/plain": [
       "1537"
      ]
     },
     "execution_count": 39,
     "metadata": {},
     "output_type": "execute_result"
    }
   ],
   "source": [
    "a=len(data1)\n",
    "a=a-100\n",
    "a"
   ]
  },
  {
   "cell_type": "code",
   "execution_count": 40,
   "id": "1c76d984",
   "metadata": {},
   "outputs": [
    {
     "data": {
      "text/plain": [
       "[<matplotlib.lines.Line2D at 0x27fe1d8a460>]"
      ]
     },
     "execution_count": 40,
     "metadata": {},
     "output_type": "execute_result"
    },
    {
     "data": {
      "image/png": "[encoded data removed]",
      "text/plain": [
       "<Figure size 432x288 with 1 Axes>"
      ]
     },
     "metadata": {
      "needs_background": "light"
     },
     "output_type": "display_data"
    }
   ],
   "source": [
    "plt.plot(day_new,scaler.inverse_transform(data1[a:]))\n",
    "plt.plot(day_pred,scaler.inverse_transform(lst_output))"
   ]
  },
  {
   "cell_type": "code",
   "execution_count": 41,
   "id": "d0fed71c",
   "metadata": {},
   "outputs": [
    {
     "data": {
      "text/plain": [
       "[<matplotlib.lines.Line2D at 0x27fe1d777c0>]"
      ]
     },
     "execution_count": 41,
     "metadata": {},
     "output_type": "execute_result"
    },
    {
     "data": {
      "image/png": "[encoded data removed]",
      "text/plain": [
       "<Figure size 432x288 with 1 Axes>"
      ]
     },
     "metadata": {
      "needs_background": "light"
     },
     "output_type": "display_data"
    }
   ],
   "source": [
    "df3=data1.tolist()\n",
    "df3.extend(lst_output)\n",
    "plt.plot(df3[800:])"
   ]
  },
  {
   "cell_type": "code",
   "execution_count": 42,
   "id": "85817288",
   "metadata": {},
   "outputs": [],
   "source": [
    "df3=scaler.inverse_transform(df3).tolist()"
   ]
  },
  {
   "cell_type": "code",
   "execution_count": 43,
   "id": "fe2b0d22",
   "metadata": {
    "scrolled": true
   },
   "outputs": [
    {
     "data": {
      "text/plain": [
       "[<matplotlib.lines.Line2D at 0x27fe1eecaf0>]"
      ]
     },
     "execution_count": 43,
     "metadata": {},
     "output_type": "execute_result"
    },
    {
     "data": {
      "image/png": "[encoded data removed]",
      "text/plain": [
       "<Figure size 432x288 with 1 Axes>"
      ]
     },
     "metadata": {
      "needs_background": "light"
     },
     "output_type": "display_data"
    }
   ],
   "source": [
    "plt.plot(df3)"
   ]
  },
  {
   "cell_type": "code",
   "execution_count": null,
   "id": "0a93842e",
   "metadata": {},
   "outputs": [],
   "source": []
  },
  {
   "cell_type": "code",
   "execution_count": 44,
   "id": "e1f99e72",
   "metadata": {},
   "outputs": [
    {
     "name": "stdout",
     "output_type": "stream",
     "text": [
      "The model is created and the future value of the stock is predicted\n"
     ]
    }
   ],
   "source": [
    "print(\"The model is created and the future value of the stock is predicted\")"
   ]
  },
  {
   "cell_type": "code",
   "execution_count": null,
   "id": "0125cfce",
   "metadata": {},
   "outputs": [],
   "source": []
  }
 ],
 "metadata": {
  "kernelspec": {
   "display_name": "Python 3 (ipykernel)",
   "language": "python",
   "name": "python3"
  },
  "language_info": {
   "codemirror_mode": {
    "name": "ipython",
    "version": 3
   },
   "file_extension": ".py",
   "mimetype": "text/x-python",
   "name": "python",
   "nbconvert_exporter": "python",
   "pygments_lexer": "ipython3",
   "version": "3.9.7"
  }
 },
 "nbformat": 4,
 "nbformat_minor": 5
}
